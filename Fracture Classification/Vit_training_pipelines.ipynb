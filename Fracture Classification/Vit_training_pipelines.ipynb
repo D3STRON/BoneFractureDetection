{
 "cells": [
  {
   "cell_type": "code",
   "execution_count": 2,
   "id": "4866e5b6",
   "metadata": {},
   "outputs": [],
   "source": [
    "import os\n",
    "import pandas as pd\n",
    "from torchvision.io import read_image\n",
    "from torch.utils.data import Dataset\n",
    "from torchvision import transforms, datasets\n",
    "import matplotlib.pyplot as plt\n",
    "import torchvision\n",
    "import cv2\n",
    "import torch\n",
    "import torch.nn\n",
    "import pandas as pd \n",
    "from torch.utils.data import DataLoader\n",
    "from sklearn.model_selection import train_test_split\n",
    "import torch.nn as nn\n",
    "from torch.optim import Adam, AdamW\n",
    "from torch.nn import CrossEntropyLoss\n",
    "from tqdm import tqdm, trange\n",
    "import math\n",
    "import numpy as np\n",
    "from VisionTransformer import ViTForClassfication"
   ]
  },
  {
   "cell_type": "code",
   "execution_count": 4,
   "id": "1dbad305",
   "metadata": {},
   "outputs": [],
   "source": [
    "train_df = pd.read_csv('./data/MURA-v1.1/train_labels.csv')\n",
    "val_df = pd.read_csv('./data/MURA-v1.1/valid_labels.csv')"
   ]
  },
  {
   "cell_type": "code",
   "execution_count": 5,
   "id": "43c81869",
   "metadata": {},
   "outputs": [],
   "source": [
    "class CustomImageDataset(Dataset):\n",
    "    def __init__(self, annotation_df , config, transform=None, target_transform=None):\n",
    "        self.img_labels = annotation_df\n",
    "        self.transform = transform\n",
    "        self.target_transform = target_transform\n",
    "\n",
    "    def __len__(self):\n",
    "        return len(self.img_labels)\n",
    "\n",
    "    def __getitem__(self, idx):\n",
    "        img_path = self.img_labels.loc[idx, 'image_dir']\n",
    "        if config['channels'] == 1:\n",
    "            image = cv2.imread(img_path, cv2.IMREAD_GRAYSCALE)\n",
    "            image = torch.tensor(image, dtype= torch.float32).unsqueeze(0)\n",
    "        else:\n",
    "            image = cv2.imread(img_path)\n",
    "            image = np.transpose(image, (2, 0, 1))\n",
    "            image = torch.tensor(image, dtype= torch.float32)\n",
    "        label = self.img_labels.loc[idx, 'fractured']\n",
    "        if self.transform:\n",
    "            image = self.transform(image)\n",
    "        if self.target_transform:\n",
    "            label = self.target_transform(label)\n",
    "        return image, label\n"
   ]
  },
  {
   "cell_type": "markdown",
   "id": "85c29f0c-1652-49d9-ba9c-4aee7e46fe25",
   "metadata": {},
   "source": [
    "# Custom VIT Model"
   ]
  },
  {
   "cell_type": "code",
   "execution_count": null,
   "id": "86ac5b16-04a7-4a95-8e42-cfe7122025ad",
   "metadata": {},
   "outputs": [],
   "source": [
    "label_df = pd.read_csv('./data/BoneFracture_localization.v2i.coco/annotation.csv')\n",
    "# Upsample fractured samples in training data\n",
    "\n",
    "# Separate fractured and unfractured samples\n",
    "fractured_df = label_df[label_df['fractured'] == 1]\n",
    "unfractured_df = label_df[label_df['fractured'] == 0]\n",
    "# unfractured_df = unfractured_df.iloc[:fractured_df.shape[0], :]\n",
    "\n",
    "# Split the fractured and unfractured data into training and validation sets\n",
    "train_frac_df, val_frac_df = train_test_split(fractured_df, test_size=0.2)\n",
    "train_unfrac_df, val_unfrac_df = train_test_split(unfractured_df, test_size=0.2)\n",
    "\n",
    "num_unfrac = len(train_unfrac_df)\n",
    "num_frac = len(train_frac_df)\n",
    "\n",
    "if num_frac < num_unfrac:\n",
    "    # Calculate how many more fractured samples are needed\n",
    "    difference = num_unfrac - num_frac\n",
    "    \n",
    "    # Upsample fractured data by duplicating random samples with replacement\n",
    "    upsampled_train_frac_df = train_frac_df.sample(difference, replace=True, random_state=42)\n",
    "    \n",
    "    # Concatenate the upsampled fractured samples with the original fractured data\n",
    "    train_frac_df = pd.concat([train_frac_df, upsampled_train_frac_df])\n",
    "\n",
    "# Concatenate upsampled fractured data with unfractured data\n",
    "train_df = pd.concat([train_frac_df, train_unfrac_df])\n",
    "\n",
    "# Concatenate validation sets without upsampling\n",
    "val_df = pd.concat([val_frac_df, val_unfrac_df])\n",
    "\n",
    "# Reset index for both train and validation dataframes\n",
    "train_df.reset_index(drop=True, inplace=True)\n",
    "val_df.reset_index(drop=True, inplace=True)\n",
    "\n",
    "# Shuffle the training set\n",
    "train_df = train_df.sample(frac=1, random_state=42).reset_index(drop=True)\n",
    "\n",
    "train_df['image_dir'] = train_df['image_dir'].apply(lambda x: './data/BoneFracture_localization.v2i.coco/train/' + x)\n",
    "val_df['image_dir'] = val_df['image_dir'].apply(lambda x: './data/BoneFracture_localization.v2i.coco/train/' + x)\n",
    "# val_df = val_df[val_df['fractured'] == 1]\n",
    "# val_df.shape"
   ]
  },
  {
   "cell_type": "code",
   "execution_count": 40,
   "id": "bf96b42d",
   "metadata": {},
   "outputs": [
    {
     "name": "stdout",
     "output_type": "stream",
     "text": [
      "Feature batch shape: torch.Size([64, 3, 500, 500])\n"
     ]
    },
    {
     "data": {
      "image/png": "[encoded data removed]",
      "text/plain": [
       "<Figure size 432x288 with 1 Axes>"
      ]
     },
     "metadata": {
      "needs_background": "light"
     },
     "output_type": "display_data"
    },
    {
     "name": "stdout",
     "output_type": "stream",
     "text": [
      "Label: 1\n"
     ]
    }
   ],
   "source": [
    "# Configuration for the ViT model (you can adjust these as per your model design)\n",
    "config = {\n",
    "    \"encoding_size\": 256,\n",
    "    \"num_classes\": 2,\n",
    "    \"num_heads\": 4,\n",
    "    \"img_dim\": 500,\n",
    "    \"patch_size\": 20,\n",
    "    \"dropout\": 0.2,\n",
    "    'num_hidden_layers': 2,\n",
    "    'intermediate_size': 512,\n",
    "    'channels': 3,\n",
    "    'train_batch_size': 64\n",
    "}\n",
    "\n",
    "transform = transforms.Compose([\n",
    "    transforms.Resize(config['img_dim']),\n",
    "    transforms.CenterCrop(config['img_dim']),\n",
    "    transforms.RandomHorizontalFlip(),  # Randomly flip the image horizontally\n",
    "    transforms.RandomVerticalFlip(),\n",
    "#     transforms.RandomRotation(30),  # Randomly rotate the image\n",
    "#     transforms.ColorJitter(brightness=0.5, contrast=0.5),  # Adjust brightness and contrast\n",
    "    transforms.Normalize(mean=[0.5], std=[0.5])\n",
    "    \n",
    "])\n",
    "\n",
    "\n",
    "train_dataset = CustomImageDataset(train_df, config, transform=transform)\n",
    "train_dataloader = DataLoader(train_dataset, batch_size=config['train_batch_size'], shuffle=True)\n",
    "\n",
    "val_dataset = CustomImageDataset(val_df, config, transform=transform)\n",
    "val_dataloader = DataLoader(val_dataset, batch_size=config['train_batch_size'], shuffle=True)\n",
    "\n",
    "\n",
    "train_features, train_labels = next(iter(val_dataloader))\n",
    "print(f\"Feature batch shape: {train_features.size()}\")\n",
    "img = train_features[0].squeeze()\n",
    "label = train_labels[0]\n",
    "plt.imshow(img[0], cmap=\"gray\")\n",
    "plt.show()\n",
    "print(f\"Label: {label}\")"
   ]
  },
  {
   "cell_type": "code",
   "execution_count": 26,
   "id": "62a3a541",
   "metadata": {},
   "outputs": [],
   "source": [
    "from sklearn.metrics import roc_auc_score\n",
    "\n",
    "def train(N_EPOCHS, criterion, optimizer, model, config):\n",
    "    # Training loop\n",
    "    for epoch in trange(N_EPOCHS, desc=\"Training\"):\n",
    "        train_loss = 0.0\n",
    "        iteration = 0  # To track the number of iterations\n",
    "        train_correct = 0\n",
    "\n",
    "        for batch in tqdm(train_dataloader, desc=f\"Epoch {epoch + 1} in training\", leave=False):\n",
    "            iteration += 1\n",
    "\n",
    "            # Training Step\n",
    "            x, y = batch\n",
    "            x, y = x.cuda(), y.cuda()  # Assuming you're using a GPU\n",
    "            y_hat = model(x)\n",
    "            loss = criterion(y_hat, y)\n",
    "\n",
    "            train_loss += loss.detach().cpu().item() / len(train_dataloader)\n",
    "            _, predicted = torch.max(y_hat, 1)\n",
    "            train_correct += (predicted == y).sum().item()\n",
    "            optimizer.zero_grad()\n",
    "            loss.backward()\n",
    "            optimizer.step()\n",
    "\n",
    "            # Validation step after every 10 iterations\n",
    "            if iteration % 10 == 0:\n",
    "                val_loss = 0.0\n",
    "                correct = 0\n",
    "                total = 0\n",
    "                all_val_labels = []\n",
    "                all_val_probs = []\n",
    "\n",
    "                model.eval()  # Set the model to evaluation mode\n",
    "                with torch.no_grad():  # Disable gradient computation\n",
    "                    for val_batch in tqdm(val_dataloader):\n",
    "                        val_x, val_y = val_batch\n",
    "                        val_x, val_y = val_x.cuda(), val_y.cuda()\n",
    "\n",
    "                        val_y_hat = model(val_x)\n",
    "                        val_loss += criterion(val_y_hat, val_y).item() / len(val_dataloader)\n",
    "\n",
    "                        # Calculate accuracy\n",
    "                        _, predicted = torch.max(val_y_hat, 1)\n",
    "                        correct += (predicted == val_y).sum().item()\n",
    "                        total += val_y.size(0)\n",
    "\n",
    "                        # Store probabilities and labels for AUC calculation\n",
    "                        all_val_labels.extend(val_y.cpu().numpy())\n",
    "                        all_val_probs.extend(val_y_hat.softmax(dim=1)[:, 1].cpu().numpy())  # Taking probability for class 1\n",
    "\n",
    "                # Compute AUC for validation\n",
    "                val_accuracy = correct / total\n",
    "                val_auc = roc_auc_score(all_val_labels, all_val_probs)\n",
    "                \n",
    "                train_accuracy = train_correct / (iteration*config['train_batch_size'])\n",
    "#                 print(f\"Iteration {iteration}: Validation Loss: {val_loss:.2f}, Validation Accuracy: {val_accuracy:.2f}\")\n",
    "                model.train()  # Switch back to training mode\n",
    "                print(f\"Iteration {iteration}: Training Loss: {loss:.2f}, Training Accuracy: {train_accuracy:.2f}\")\n",
    "\n",
    "        print(f\"Epoch {epoch + 1}/{N_EPOCHS} loss: {train_loss:.2f}\")"
   ]
  },
  {
   "cell_type": "code",
   "execution_count": null,
   "id": "39b01702",
   "metadata": {},
   "outputs": [],
   "source": [
    "from torchvision import models\n",
    "\n",
    "# resnet = models.resnet50(pretrained=True)\n",
    "# num_ftrs = resnet.fc.in_features\n",
    "# resnet.fc = nn.Linear(num_ftrs, 2)  \n",
    "# resnet = resnet.cuda()\n",
    "\n",
    "N_EPOCHS = 5\n",
    "\n",
    "# # Model (replace `ViTForClassification` with your actual ViT class name)\n",
    "vit = ViTForClassfication(config)\n",
    "vit = vit.cuda()  \n",
    "\n",
    "optimizer = AdamW(vit.parameters(), lr=1e-3, weight_decay=0.0001)\n",
    "criterion = nn.CrossEntropyLoss()\n",
    "\n",
    "train(N_EPOCHS, criterion, optimizer, vit, config)"
   ]
  },
  {
   "cell_type": "markdown",
   "id": "151bdb5b",
   "metadata": {},
   "source": [
    "# Huggingface Pipeline"
   ]
  },
  {
   "cell_type": "code",
   "execution_count": 3,
   "id": "3dfd0081",
   "metadata": {},
   "outputs": [
    {
     "name": "stderr",
     "output_type": "stream",
     "text": [
      "Fast image processor class <class 'transformers.models.vit.image_processing_vit_fast.ViTImageProcessorFast'> is available for this model. Using slow image processor class. To use the fast image processor class set `use_fast=True`.\n"
     ]
    }
   ],
   "source": [
    "from transformers import AutoImageProcessor, AutoModelForImageClassification, Trainer, TrainingArguments, AutoFeatureExtractor\n",
    "from datasets import load_dataset, Dataset, concatenate_datasets\n",
    "from transformers import ViTForImageClassification, AutoImageProcessor, CvtForImageClassification\n",
    "from PIL import Image\n",
    "import torch\n",
    "from PIL import Image\n",
    "import random\n",
    "# import torchvision.transforms as T\n",
    "\n",
    "\n",
    "\n",
    "# Load the data from CSV\n",
    "data_files = {\"train\": \"./data/MURA-v1.1/train_labels.csv\",\n",
    "              \"valid\": \"./data/MURA-v1.1/valid_labels.csv\"}  # update with the correct path\n",
    "dataset = load_dataset(\"csv\", data_files=data_files)\n",
    "\n",
    "\n",
    "# processor = AutoImageProcessor.from_pretrained(\"KhalfounMehdi/vision_transformer_mura_model_v3\")\n",
    "# model = AutoModelForImageClassification.from_pretrained(\"KhalfounMehdi/vision_transformer_mura_model_v3\")\n",
    "\n",
    "\n",
    "# model = ViTForImageClassification.from_pretrained(\"google/vit-base-patch16-224\", num_labels=2, ignore_mismatched_sizes=True)\n",
    "# processor = AutoImageProcessor.from_pretrained(\"google/vit-base-patch16-224\", num_labels=2, ignore_mismatched_sizes=True)\n",
    "\n",
    "processor = AutoImageProcessor.from_pretrained(\"google/vit-base-patch16-384\", num_labels=2, ignore_mismatched_sizes=True)\n",
    "model = AutoModelForImageClassification.from_pretrained(\"D3STRON/bone_fracture_vit\", num_labels=2, ignore_mismatched_sizes=True)\n",
    "\n",
    "\n",
    "# feature_extractor = AutoFeatureExtractor.from_pretrained('microsoft/cvt-21-384-22k', num_labels=2, ignore_mismatched_sizes=True)\n",
    "# model = CvtForImageClassification.from_pretrained('microsoft/cvt-21-384-22k', num_labels=2, ignore_mismatched_sizes=True)"
   ]
  },
  {
   "cell_type": "code",
   "execution_count": 4,
   "id": "454ebd1f",
   "metadata": {},
   "outputs": [],
   "source": [
    "def preprocess_data(examples):\n",
    "    images = []\n",
    "    for image_path in examples[\"image_dir\"]:\n",
    "        image = Image.open(image_path).convert(\"RGB\")\n",
    "        augmented_image = image\n",
    "        images.append(augmented_image)\n",
    "    \n",
    "    # Convert the list of images to tensors\n",
    "    inputs = processor(images=images, return_tensors=\"pt\")\n",
    "    inputs[\"labels\"] = examples[\"fractured\"]\n",
    "    return inputs\n",
    "\n",
    "# Apply the preprocessing function\n",
    "prepared_dataset = dataset[\"train\"].map(preprocess_data, batched=True, batch_size=16) \n",
    "valid_dataset = dataset[\"valid\"].map(preprocess_data, batched=True, batch_size=16)"
   ]
  },
  {
   "cell_type": "code",
   "execution_count": 17,
   "id": "aabb2c4a",
   "metadata": {},
   "outputs": [
    {
     "name": "stderr",
     "output_type": "stream",
     "text": [
      "C:\\Users\\GHOSH\\OneDrive\\Documents\\MS\\NEU\\Assignmnets\\CS5330\\Project\\detr\\lib\\site-packages\\transformers\\training_args.py:1575: FutureWarning: `evaluation_strategy` is deprecated and will be removed in version 4.46 of 🤗 Transformers. Use `eval_strategy` instead\n",
      "  warnings.warn(\n",
      "Using the `WANDB_DISABLED` environment variable is deprecated and will be removed in v5. Use the --report_to flag to control the integrations used for logging result (for instance --report_to none).\n"
     ]
    }
   ],
   "source": [
    "import logging\n",
    "logging.basicConfig(level=logging.INFO)\n",
    "import evaluate\n",
    "import numpy as np\n",
    "os.environ[\"WANDB_DISABLED\"] = \"true\"\n",
    "\n",
    "# Load the accuracy metric\n",
    "accuracy_metric = evaluate.load(\"accuracy\")\n",
    "from sklearn.metrics import precision_score, recall_score, f1_score, roc_auc_score, confusion_matrix\n",
    "\n",
    "# def compute_metrics(eval_pred):\n",
    "#     logits, labels = eval_pred\n",
    "#     predictions = np.argmax(logits, axis=-1)\n",
    "#     accuracy = accuracy_metric.compute(predictions=predictions, references=labels)\n",
    "#     return accuracy\n",
    "\n",
    "\n",
    "def compute_metrics(eval_pred):\n",
    "    logits, labels = eval_pred\n",
    "    predictions = np.argmax(logits, axis=-1)\n",
    "\n",
    "    # Compute basic metrics\n",
    "    precision = precision_score(labels, predictions, average=\"binary\")\n",
    "    recall = recall_score(labels, predictions, average=\"binary\")\n",
    "    f1 = f1_score(labels, predictions, average=\"binary\")\n",
    "    \n",
    "    # Compute AUC\n",
    "    if len(np.unique(labels)) == 2:  # AUC is valid only for binary classification\n",
    "        probabilities = np.exp(logits) / np.sum(np.exp(logits), axis=1, keepdims=True)\n",
    "        auc = roc_auc_score(labels, probabilities[:, 1])\n",
    "    else:\n",
    "        auc = None\n",
    "    \n",
    "    # Confusion matrix\n",
    "    conf_matrix = confusion_matrix(labels, predictions)\n",
    "\n",
    "    # Log metrics\n",
    "    logging.info(f\"Precision: {precision:.4f}, Recall: {recall:.4f}, F1: {f1:.4f}, AUC: {auc if auc is not None else 'N/A'}\")\n",
    "    logging.info(f\"Confusion Matrix:\\n{conf_matrix}\")\n",
    "    logging.info(f\"Accuracy:\\n{accuracy_metric.compute(predictions=predictions, references=labels)['accuracy']}\")\n",
    "    return accuracy_metric.compute(predictions=predictions, references=labels)\n",
    "\n",
    "training_args = TrainingArguments(\n",
    "    output_dir=\"bone_fracture_vit\",                    # Directory to save the model\n",
    "    per_device_train_batch_size=16,             # Adjust batch size as needed\n",
    "    per_device_eval_batch_size=32,\n",
    "    num_train_epochs=4,                        # Number of epochs\n",
    "    save_steps=1000,                            # Save checkpoint every 500 steps\n",
    "    learning_rate=1e-5,\n",
    "    weight_decay=0.0002,                         # Weight decay for regularization\n",
    "    logging_strategy='steps',                  # Log at each step interval\n",
    "    report_to=\"all\",                           # Enable logging to console\n",
    "    evaluation_strategy='steps',\n",
    "    eval_steps=1000,\n",
    "    warmup_ratio=0.2,                          # 10% of total steps for warmup\n",
    "    lr_scheduler_type=\"cosine\",                # Learning rate decay strategy\n",
    "    save_total_limit=1,                        # Keep only the last 2 checkpoints\n",
    "    push_to_hub=True\n",
    ")\n",
    "\n",
    "# Define the Trainer with model, arguments, and dataset\n",
    "trainer = Trainer(\n",
    "    model=model,  \n",
    "    args=training_args,\n",
    "    train_dataset=prepared_dataset,\n",
    "    eval_dataset=valid_dataset,\n",
    "    compute_metrics=compute_metrics\n",
    ")"
   ]
  },
  {
   "cell_type": "code",
   "execution_count": 16,
   "id": "f3256c6e",
   "metadata": {
    "scrolled": true
   },
   "outputs": [],
   "source": [
    "trainer.train()"
   ]
  },
  {
   "cell_type": "code",
   "execution_count": 18,
   "id": "31792c95-7125-4995-b9e2-bb42663540c5",
   "metadata": {},
   "outputs": [
    {
     "data": {
      "text/html": [
       "\n",
       "    <div>\n",
       "      \n",
       "      <progress value='100' max='100' style='width:300px; height:20px; vertical-align: middle;'></progress>\n",
       "      [100/100 12:43]\n",
       "    </div>\n",
       "    "
      ],
      "text/plain": [
       "<IPython.core.display.HTML object>"
      ]
     },
     "metadata": {},
     "output_type": "display_data"
    },
    {
     "name": "stderr",
     "output_type": "stream",
     "text": [
      "INFO:root:Precision: 0.8631, Recall: 0.7379, F1: 0.7956, AUC: 0.8798777499402081\n",
      "INFO:root:Confusion Matrix:\n",
      "[[1488  179]\n",
      " [ 401 1129]]\n",
      "INFO:root:Accuracy:\n",
      "0.8185799186737567\n",
      "INFO:root:Evaluation Results: {'eval_loss': 0.45629775524139404, 'eval_model_preparation_time': 0.0033, 'eval_accuracy': 0.8185799186737567, 'eval_runtime': 779.5271, 'eval_samples_per_second': 4.101, 'eval_steps_per_second': 0.128}\n"
     ]
    }
   ],
   "source": [
    "# Evaluate the model\n",
    "\n",
    "eval_results = trainer.evaluate()\n",
    "\n",
    "# Log evaluation results\n",
    "logging.info(f\"Evaluation Results: {eval_results}\")"
   ]
  },
  {
   "cell_type": "code",
   "execution_count": null,
   "id": "e58c38bb-bfb8-4236-af9c-02cb34752b8a",
   "metadata": {},
   "outputs": [],
   "source": []
  }
 ],
 "metadata": {
  "kernelspec": {
   "display_name": "Python 3 (ipykernel)",
   "language": "python",
   "name": "python3"
  },
  "language_info": {
   "codemirror_mode": {
    "name": "ipython",
    "version": 3
   },
   "file_extension": ".py",
   "mimetype": "text/x-python",
   "name": "python",
   "nbconvert_exporter": "python",
   "pygments_lexer": "ipython3",
   "version": "3.10.5"
  }
 },
 "nbformat": 4,
 "nbformat_minor": 5
}
