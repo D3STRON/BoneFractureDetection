{
 "cells": [
  {
   "cell_type": "code",
   "execution_count": 1,
   "metadata": {},
   "outputs": [
    {
     "name": "stderr",
     "output_type": "stream",
     "text": [
      "/Users/akashmurali/anaconda3/envs/akos/lib/python3.11/site-packages/tqdm/auto.py:21: TqdmWarning: IProgress not found. Please update jupyter and ipywidgets. See https://ipywidgets.readthedocs.io/en/stable/user_install.html\n",
      "  from .autonotebook import tqdm as notebook_tqdm\n"
     ]
    }
   ],
   "source": [
    "import torch\n",
    "from torch.utils.data import Dataset, DataLoader\n",
    "from tqdm import tqdm \n",
    "from torchvision import transforms\n",
    "from PIL import Image\n",
    "from mura import MURADataset\n",
    "import pandas as pd\n",
    "from torchvision import models\n",
    "import torch.nn as nn\n",
    "import torch.optim as optim\n",
    "import os"
   ]
  },
  {
   "cell_type": "code",
   "execution_count": 2,
   "metadata": {},
   "outputs": [],
   "source": [
    "# Define the device (GPU if available)\n",
    "device = torch.device(\"cuda\" if torch.cuda.is_available() else \"cpu\")"
   ]
  },
  {
   "cell_type": "code",
   "execution_count": 3,
   "metadata": {},
   "outputs": [],
   "source": [
    "# Define transformations for data augmentation and normalization\n",
    "data_transforms = {\n",
    "    'train': transforms.Compose([\n",
    "        transforms.RandomResizedCrop(224),\n",
    "        transforms.RandomHorizontalFlip(),\n",
    "        transforms.ToTensor(),\n",
    "        transforms.Normalize([0.485, 0.456, 0.406], [0.229, 0.224, 0.225])\n",
    "    ]),\n",
    "    'val': transforms.Compose([\n",
    "        transforms.Resize(256),\n",
    "        transforms.CenterCrop(224),\n",
    "        transforms.ToTensor(),\n",
    "        transforms.Normalize([0.485, 0.456, 0.406], [0.229, 0.224, 0.225])\n",
    "    ])\n",
    "}"
   ]
  },
  {
   "cell_type": "code",
   "execution_count": 4,
   "metadata": {},
   "outputs": [],
   "source": [
    "def train_model(model, criterion, optimizer, num_epochs=10, save_dir=\"model_weights\"):\n",
    "    # Ensure the save directory exists\n",
    "    os.makedirs(save_dir, exist_ok=True)\n",
    "    \n",
    "    best_acc = 0.0\n",
    "    train_loss_history, val_loss_history = [], []\n",
    "    train_acc_history, val_acc_history = [], []\n",
    "\n",
    "    for epoch in range(num_epochs):\n",
    "        print(f'\\nEpoch {epoch+1}/{num_epochs}')\n",
    "        print('-' * 30)\n",
    "\n",
    "        # Each epoch has a training and validation phase\n",
    "        for phase in ['train', 'val']:\n",
    "            if phase == 'train':\n",
    "                model.train()  # Set model to training mode\n",
    "                print(\"Training phase:\")\n",
    "            else:\n",
    "                model.eval()  # Set model to evaluate mode\n",
    "                print(\"Validation phase:\")\n",
    "\n",
    "            running_loss = 0.0\n",
    "            running_corrects = 0\n",
    "\n",
    "            # Get total batches for progress tracking\n",
    "            total_batches = len(dataloaders[phase])\n",
    "\n",
    "            # Iterate over data with tqdm for a progress bar\n",
    "            with tqdm(total=total_batches, desc=f\"{phase} Progress\") as pbar:\n",
    "                for batch_idx, (inputs, labels) in enumerate(dataloaders[phase]):\n",
    "                    inputs, labels = inputs.to(device), labels.to(device)\n",
    "                    \n",
    "                    # Zero the parameter gradients\n",
    "                    optimizer.zero_grad()\n",
    "\n",
    "                    # Forward pass\n",
    "                    with torch.set_grad_enabled(phase == 'train'):\n",
    "                        outputs = model(inputs)\n",
    "                        _, preds = torch.max(outputs, 1)\n",
    "                        loss = criterion(outputs, labels)\n",
    "\n",
    "                        # Backward pass + optimize only if in training phase\n",
    "                        if phase == 'train':\n",
    "                            loss.backward()\n",
    "                            optimizer.step()\n",
    "\n",
    "                    # Statistics\n",
    "                    running_loss += loss.item() * inputs.size(0)\n",
    "                    running_corrects += torch.sum(preds == labels.data)\n",
    "\n",
    "                    # Update progress bar with batch stats\n",
    "                    pbar.set_postfix({\n",
    "                        \"Batch Loss\": loss.item(),\n",
    "                        \"Batch Accuracy\": (torch.sum(preds == labels.data).double() / len(labels)).item()\n",
    "                    })\n",
    "                    pbar.update(1)\n",
    "\n",
    "            # Calculate epoch statistics\n",
    "            epoch_loss = running_loss / dataset_sizes[phase]\n",
    "            epoch_acc = running_corrects.double() / dataset_sizes[phase]\n",
    "\n",
    "            print(f\"{phase} Loss: {epoch_loss:.4f} Acc: {epoch_acc:.4f}\")\n",
    "\n",
    "            # Save loss and accuracy for each phase\n",
    "            if phase == 'train':\n",
    "                train_loss_history.append(epoch_loss)\n",
    "                train_acc_history.append(epoch_acc.item())\n",
    "            else:\n",
    "                val_loss_history.append(epoch_loss)\n",
    "                val_acc_history.append(epoch_acc.item())\n",
    "\n",
    "            # Deep copy the model if validation accuracy improves\n",
    "            if phase == 'val' and epoch_acc > best_acc:\n",
    "                best_acc = epoch_acc\n",
    "                best_model_wts = model.state_dict()\n",
    "\n",
    "        # Save model weights after each epoch\n",
    "        epoch_weight_path = os.path.join(save_dir, f\"model_epoch_{epoch+1}.pth\")\n",
    "        torch.save(model.state_dict(), epoch_weight_path)\n",
    "        print(f\"Saved model weights to {epoch_weight_path}\")\n",
    "\n",
    "    # Load best model weights\n",
    "    model.load_state_dict(best_model_wts)\n",
    "\n",
    "    print(f'\\nBest Validation Accuracy: {best_acc:.4f}')\n",
    "    print(\"Training complete.\")\n",
    "\n",
    "    # Return model and histories\n",
    "    return model, train_loss_history, val_loss_history, train_acc_history, val_acc_history"
   ]
  },
  {
   "cell_type": "code",
   "execution_count": null,
   "metadata": {},
   "outputs": [
    {
     "name": "stderr",
     "output_type": "stream",
     "text": [
      "/Users/akashmurali/anaconda3/envs/akos/lib/python3.11/site-packages/torchvision/models/_utils.py:208: UserWarning: The parameter 'pretrained' is deprecated since 0.13 and may be removed in the future, please use 'weights' instead.\n",
      "  warnings.warn(\n",
      "/Users/akashmurali/anaconda3/envs/akos/lib/python3.11/site-packages/torchvision/models/_utils.py:223: UserWarning: Arguments other than a weight enum or `None` for 'weights' are deprecated since 0.13 and may be removed in the future. The current behavior is equivalent to passing `weights=ResNet18_Weights.IMAGENET1K_V1`. You can also use `weights=ResNet18_Weights.DEFAULT` to get the most up-to-date weights.\n",
      "  warnings.warn(msg)\n"
     ]
    },
    {
     "name": "stdout",
     "output_type": "stream",
     "text": [
      "\n",
      "Epoch 1/40\n",
      "------------------------------\n",
      "Training phase:\n"
     ]
    },
    {
     "name": "stderr",
     "output_type": "stream",
     "text": [
      "train Progress: 100%|██████████| 1151/1151 [39:36<00:00,  2.07s/it, Batch Loss=0.891, Batch Accuracy=0.25] \n"
     ]
    },
    {
     "name": "stdout",
     "output_type": "stream",
     "text": [
      "train Loss: 0.6553 Acc: 0.6249\n",
      "Validation phase:\n"
     ]
    },
    {
     "name": "stderr",
     "output_type": "stream",
     "text": [
      "val Progress: 100%|██████████| 100/100 [02:01<00:00,  1.22s/it, Batch Loss=0.461, Batch Accuracy=0.793]\n"
     ]
    },
    {
     "name": "stdout",
     "output_type": "stream",
     "text": [
      "val Loss: 0.6755 Acc: 0.6293\n",
      "Saved model weights to saved_weights/model_epoch_1.pth\n",
      "\n",
      "Epoch 2/40\n",
      "------------------------------\n",
      "Training phase:\n"
     ]
    },
    {
     "name": "stderr",
     "output_type": "stream",
     "text": [
      "train Progress: 100%|██████████| 1151/1151 [39:22<00:00,  2.05s/it, Batch Loss=0.662, Batch Accuracy=0.625]\n"
     ]
    },
    {
     "name": "stdout",
     "output_type": "stream",
     "text": [
      "train Loss: 0.6202 Acc: 0.6651\n",
      "Validation phase:\n"
     ]
    },
    {
     "name": "stderr",
     "output_type": "stream",
     "text": [
      "val Progress: 100%|██████████| 100/100 [02:09<00:00,  1.29s/it, Batch Loss=0.391, Batch Accuracy=0.828]\n"
     ]
    },
    {
     "name": "stdout",
     "output_type": "stream",
     "text": [
      "val Loss: 0.6183 Acc: 0.6478\n",
      "Saved model weights to saved_weights/model_epoch_2.pth\n",
      "\n",
      "Epoch 3/40\n",
      "------------------------------\n",
      "Training phase:\n"
     ]
    },
    {
     "name": "stderr",
     "output_type": "stream",
     "text": [
      "train Progress: 100%|██████████| 1151/1151 [39:13<00:00,  2.04s/it, Batch Loss=0.747, Batch Accuracy=0.625]\n"
     ]
    },
    {
     "name": "stdout",
     "output_type": "stream",
     "text": [
      "train Loss: 0.6114 Acc: 0.6715\n",
      "Validation phase:\n"
     ]
    },
    {
     "name": "stderr",
     "output_type": "stream",
     "text": [
      "val Progress: 100%|██████████| 100/100 [02:03<00:00,  1.23s/it, Batch Loss=0.245, Batch Accuracy=0.966]\n"
     ]
    },
    {
     "name": "stdout",
     "output_type": "stream",
     "text": [
      "val Loss: 0.6489 Acc: 0.6431\n",
      "Saved model weights to saved_weights/model_epoch_3.pth\n",
      "\n",
      "Epoch 4/40\n",
      "------------------------------\n",
      "Training phase:\n"
     ]
    },
    {
     "name": "stderr",
     "output_type": "stream",
     "text": [
      "train Progress: 100%|██████████| 1151/1151 [38:58<00:00,  2.03s/it, Batch Loss=0.956, Batch Accuracy=0.375]\n"
     ]
    },
    {
     "name": "stdout",
     "output_type": "stream",
     "text": [
      "train Loss: 0.5977 Acc: 0.6815\n",
      "Validation phase:\n"
     ]
    },
    {
     "name": "stderr",
     "output_type": "stream",
     "text": [
      "val Progress: 100%|██████████| 100/100 [02:14<00:00,  1.34s/it, Batch Loss=0.338, Batch Accuracy=0.862]\n"
     ]
    },
    {
     "name": "stdout",
     "output_type": "stream",
     "text": [
      "val Loss: 0.5853 Acc: 0.6835\n",
      "Saved model weights to saved_weights/model_epoch_4.pth\n",
      "\n",
      "Epoch 5/40\n",
      "------------------------------\n",
      "Training phase:\n"
     ]
    },
    {
     "name": "stderr",
     "output_type": "stream",
     "text": [
      "train Progress: 100%|██████████| 1151/1151 [38:51<00:00,  2.03s/it, Batch Loss=0.631, Batch Accuracy=0.625]\n"
     ]
    },
    {
     "name": "stdout",
     "output_type": "stream",
     "text": [
      "train Loss: 0.5928 Acc: 0.6850\n",
      "Validation phase:\n"
     ]
    },
    {
     "name": "stderr",
     "output_type": "stream",
     "text": [
      "val Progress: 100%|██████████| 100/100 [02:02<00:00,  1.22s/it, Batch Loss=0.306, Batch Accuracy=0.931]\n"
     ]
    },
    {
     "name": "stdout",
     "output_type": "stream",
     "text": [
      "val Loss: 0.5801 Acc: 0.6913\n",
      "Saved model weights to saved_weights/model_epoch_5.pth\n",
      "\n",
      "Epoch 6/40\n",
      "------------------------------\n",
      "Training phase:\n"
     ]
    },
    {
     "name": "stderr",
     "output_type": "stream",
     "text": [
      "train Progress: 100%|██████████| 1151/1151 [39:24<00:00,  2.05s/it, Batch Loss=0.495, Batch Accuracy=0.625]\n"
     ]
    },
    {
     "name": "stdout",
     "output_type": "stream",
     "text": [
      "train Loss: 0.5842 Acc: 0.6931\n",
      "Validation phase:\n"
     ]
    },
    {
     "name": "stderr",
     "output_type": "stream",
     "text": [
      "val Progress: 100%|██████████| 100/100 [02:03<00:00,  1.23s/it, Batch Loss=0.241, Batch Accuracy=1]   \n"
     ]
    },
    {
     "name": "stdout",
     "output_type": "stream",
     "text": [
      "val Loss: 0.6190 Acc: 0.6494\n",
      "Saved model weights to saved_weights/model_epoch_6.pth\n",
      "\n",
      "Epoch 7/40\n",
      "------------------------------\n",
      "Training phase:\n"
     ]
    },
    {
     "name": "stderr",
     "output_type": "stream",
     "text": [
      "train Progress: 100%|██████████| 1151/1151 [38:32<00:00,  2.01s/it, Batch Loss=0.757, Batch Accuracy=0.5]  \n"
     ]
    },
    {
     "name": "stdout",
     "output_type": "stream",
     "text": [
      "train Loss: 0.5792 Acc: 0.6981\n",
      "Validation phase:\n"
     ]
    },
    {
     "name": "stderr",
     "output_type": "stream",
     "text": [
      "val Progress: 100%|██████████| 100/100 [02:03<00:00,  1.23s/it, Batch Loss=0.215, Batch Accuracy=1]   \n"
     ]
    },
    {
     "name": "stdout",
     "output_type": "stream",
     "text": [
      "val Loss: 0.5727 Acc: 0.6994\n",
      "Saved model weights to saved_weights/model_epoch_7.pth\n",
      "\n",
      "Epoch 8/40\n",
      "------------------------------\n",
      "Training phase:\n"
     ]
    },
    {
     "name": "stderr",
     "output_type": "stream",
     "text": [
      "train Progress: 100%|██████████| 1151/1151 [38:33<00:00,  2.01s/it, Batch Loss=0.69, Batch Accuracy=0.625] \n"
     ]
    },
    {
     "name": "stdout",
     "output_type": "stream",
     "text": [
      "train Loss: 0.5749 Acc: 0.7013\n",
      "Validation phase:\n"
     ]
    },
    {
     "name": "stderr",
     "output_type": "stream",
     "text": [
      "val Progress: 100%|██████████| 100/100 [02:03<00:00,  1.23s/it, Batch Loss=0.307, Batch Accuracy=0.828]\n"
     ]
    },
    {
     "name": "stdout",
     "output_type": "stream",
     "text": [
      "val Loss: 0.5559 Acc: 0.7138\n",
      "Saved model weights to saved_weights/model_epoch_8.pth\n",
      "\n",
      "Epoch 9/40\n",
      "------------------------------\n",
      "Training phase:\n"
     ]
    },
    {
     "name": "stderr",
     "output_type": "stream",
     "text": [
      "train Progress: 100%|██████████| 1151/1151 [38:31<00:00,  2.01s/it, Batch Loss=0.583, Batch Accuracy=0.625]\n"
     ]
    },
    {
     "name": "stdout",
     "output_type": "stream",
     "text": [
      "train Loss: 0.5726 Acc: 0.7051\n",
      "Validation phase:\n"
     ]
    },
    {
     "name": "stderr",
     "output_type": "stream",
     "text": [
      "val Progress: 100%|██████████| 100/100 [02:01<00:00,  1.22s/it, Batch Loss=0.282, Batch Accuracy=0.897]\n"
     ]
    },
    {
     "name": "stdout",
     "output_type": "stream",
     "text": [
      "val Loss: 0.5477 Acc: 0.7257\n",
      "Saved model weights to saved_weights/model_epoch_9.pth\n",
      "\n",
      "Epoch 10/40\n",
      "------------------------------\n",
      "Training phase:\n"
     ]
    },
    {
     "name": "stderr",
     "output_type": "stream",
     "text": [
      "train Progress: 100%|██████████| 1151/1151 [38:34<00:00,  2.01s/it, Batch Loss=0.645, Batch Accuracy=0.625]\n"
     ]
    },
    {
     "name": "stdout",
     "output_type": "stream",
     "text": [
      "train Loss: 0.5678 Acc: 0.7068\n",
      "Validation phase:\n"
     ]
    },
    {
     "name": "stderr",
     "output_type": "stream",
     "text": [
      "val Progress: 100%|██████████| 100/100 [02:02<00:00,  1.23s/it, Batch Loss=0.227, Batch Accuracy=1]   \n"
     ]
    },
    {
     "name": "stdout",
     "output_type": "stream",
     "text": [
      "val Loss: 0.5615 Acc: 0.6972\n",
      "Saved model weights to saved_weights/model_epoch_10.pth\n",
      "\n",
      "Epoch 11/40\n",
      "------------------------------\n",
      "Training phase:\n"
     ]
    },
    {
     "name": "stderr",
     "output_type": "stream",
     "text": [
      "train Progress: 100%|██████████| 1151/1151 [38:18<00:00,  2.00s/it, Batch Loss=0.451, Batch Accuracy=0.875]\n"
     ]
    },
    {
     "name": "stdout",
     "output_type": "stream",
     "text": [
      "train Loss: 0.5641 Acc: 0.7104\n",
      "Validation phase:\n"
     ]
    },
    {
     "name": "stderr",
     "output_type": "stream",
     "text": [
      "val Progress: 100%|██████████| 100/100 [02:01<00:00,  1.21s/it, Batch Loss=0.297, Batch Accuracy=0.897]\n"
     ]
    },
    {
     "name": "stdout",
     "output_type": "stream",
     "text": [
      "val Loss: 0.5955 Acc: 0.6916\n",
      "Saved model weights to saved_weights/model_epoch_11.pth\n",
      "\n",
      "Epoch 12/40\n",
      "------------------------------\n",
      "Training phase:\n"
     ]
    },
    {
     "name": "stderr",
     "output_type": "stream",
     "text": [
      "train Progress: 100%|██████████| 1151/1151 [2:59:11<00:00,  9.34s/it, Batch Loss=0.658, Batch Accuracy=0.5]      \n"
     ]
    },
    {
     "name": "stdout",
     "output_type": "stream",
     "text": [
      "train Loss: 0.5611 Acc: 0.7130\n",
      "Validation phase:\n"
     ]
    },
    {
     "name": "stderr",
     "output_type": "stream",
     "text": [
      "val Progress: 100%|██████████| 100/100 [02:05<00:00,  1.25s/it, Batch Loss=0.353, Batch Accuracy=0.897]\n"
     ]
    },
    {
     "name": "stdout",
     "output_type": "stream",
     "text": [
      "val Loss: 0.5418 Acc: 0.7301\n",
      "Saved model weights to saved_weights/model_epoch_12.pth\n",
      "\n",
      "Epoch 13/40\n",
      "------------------------------\n",
      "Training phase:\n"
     ]
    },
    {
     "name": "stderr",
     "output_type": "stream",
     "text": [
      "train Progress: 100%|██████████| 1151/1151 [38:18<00:00,  2.00s/it, Batch Loss=0.507, Batch Accuracy=0.625]\n"
     ]
    },
    {
     "name": "stdout",
     "output_type": "stream",
     "text": [
      "train Loss: 0.5597 Acc: 0.7132\n",
      "Validation phase:\n"
     ]
    },
    {
     "name": "stderr",
     "output_type": "stream",
     "text": [
      "val Progress: 100%|██████████| 100/100 [02:02<00:00,  1.23s/it, Batch Loss=0.339, Batch Accuracy=0.897]\n"
     ]
    },
    {
     "name": "stdout",
     "output_type": "stream",
     "text": [
      "val Loss: 0.5669 Acc: 0.6991\n",
      "Saved model weights to saved_weights/model_epoch_13.pth\n",
      "\n",
      "Epoch 14/40\n",
      "------------------------------\n",
      "Training phase:\n"
     ]
    },
    {
     "name": "stderr",
     "output_type": "stream",
     "text": [
      "train Progress: 100%|██████████| 1151/1151 [38:30<00:00,  2.01s/it, Batch Loss=0.468, Batch Accuracy=0.75] \n"
     ]
    },
    {
     "name": "stdout",
     "output_type": "stream",
     "text": [
      "train Loss: 0.5552 Acc: 0.7177\n",
      "Validation phase:\n"
     ]
    },
    {
     "name": "stderr",
     "output_type": "stream",
     "text": [
      "val Progress: 100%|██████████| 100/100 [02:01<00:00,  1.21s/it, Batch Loss=0.353, Batch Accuracy=0.897]\n"
     ]
    },
    {
     "name": "stdout",
     "output_type": "stream",
     "text": [
      "val Loss: 0.5485 Acc: 0.7297\n",
      "Saved model weights to saved_weights/model_epoch_14.pth\n",
      "\n",
      "Epoch 15/40\n",
      "------------------------------\n",
      "Training phase:\n"
     ]
    },
    {
     "name": "stderr",
     "output_type": "stream",
     "text": [
      "train Progress: 100%|██████████| 1151/1151 [38:26<00:00,  2.00s/it, Batch Loss=0.771, Batch Accuracy=0.5]  \n"
     ]
    },
    {
     "name": "stdout",
     "output_type": "stream",
     "text": [
      "train Loss: 0.5552 Acc: 0.7186\n",
      "Validation phase:\n"
     ]
    },
    {
     "name": "stderr",
     "output_type": "stream",
     "text": [
      "val Progress: 100%|██████████| 100/100 [02:03<00:00,  1.23s/it, Batch Loss=0.297, Batch Accuracy=0.897]\n"
     ]
    },
    {
     "name": "stdout",
     "output_type": "stream",
     "text": [
      "val Loss: 0.5593 Acc: 0.7119\n",
      "Saved model weights to saved_weights/model_epoch_15.pth\n",
      "\n",
      "Epoch 16/40\n",
      "------------------------------\n",
      "Training phase:\n"
     ]
    },
    {
     "name": "stderr",
     "output_type": "stream",
     "text": [
      "train Progress: 100%|██████████| 1151/1151 [38:32<00:00,  2.01s/it, Batch Loss=0.44, Batch Accuracy=0.75]  \n"
     ]
    },
    {
     "name": "stdout",
     "output_type": "stream",
     "text": [
      "train Loss: 0.5518 Acc: 0.7203\n",
      "Validation phase:\n"
     ]
    },
    {
     "name": "stderr",
     "output_type": "stream",
     "text": [
      "val Progress: 100%|██████████| 100/100 [02:01<00:00,  1.22s/it, Batch Loss=0.261, Batch Accuracy=0.862]\n"
     ]
    },
    {
     "name": "stdout",
     "output_type": "stream",
     "text": [
      "val Loss: 0.5431 Acc: 0.7369\n",
      "Saved model weights to saved_weights/model_epoch_16.pth\n",
      "\n",
      "Epoch 17/40\n",
      "------------------------------\n",
      "Training phase:\n"
     ]
    },
    {
     "name": "stderr",
     "output_type": "stream",
     "text": [
      "train Progress: 100%|██████████| 1151/1151 [41:31<00:00,  2.16s/it, Batch Loss=0.36, Batch Accuracy=1]     \n"
     ]
    },
    {
     "name": "stdout",
     "output_type": "stream",
     "text": [
      "train Loss: 0.5534 Acc: 0.7188\n",
      "Validation phase:\n"
     ]
    },
    {
     "name": "stderr",
     "output_type": "stream",
     "text": [
      "val Progress: 100%|██████████| 100/100 [02:01<00:00,  1.21s/it, Batch Loss=0.392, Batch Accuracy=0.759]\n"
     ]
    },
    {
     "name": "stdout",
     "output_type": "stream",
     "text": [
      "val Loss: 0.5337 Acc: 0.7354\n",
      "Saved model weights to saved_weights/model_epoch_17.pth\n",
      "\n",
      "Epoch 18/40\n",
      "------------------------------\n",
      "Training phase:\n"
     ]
    },
    {
     "name": "stderr",
     "output_type": "stream",
     "text": [
      "train Progress: 100%|██████████| 1151/1151 [2:29:02<00:00,  7.77s/it, Batch Loss=0.745, Batch Accuracy=0.75]    \n"
     ]
    },
    {
     "name": "stdout",
     "output_type": "stream",
     "text": [
      "train Loss: 0.5493 Acc: 0.7242\n",
      "Validation phase:\n"
     ]
    },
    {
     "name": "stderr",
     "output_type": "stream",
     "text": [
      "val Progress: 100%|██████████| 100/100 [02:01<00:00,  1.21s/it, Batch Loss=0.306, Batch Accuracy=0.897]\n"
     ]
    },
    {
     "name": "stdout",
     "output_type": "stream",
     "text": [
      "val Loss: 0.5305 Acc: 0.7404\n",
      "Saved model weights to saved_weights/model_epoch_18.pth\n",
      "\n",
      "Epoch 19/40\n",
      "------------------------------\n",
      "Training phase:\n"
     ]
    },
    {
     "name": "stderr",
     "output_type": "stream",
     "text": [
      "train Progress: 100%|██████████| 1151/1151 [38:26<00:00,  2.00s/it, Batch Loss=0.631, Batch Accuracy=0.5]  \n"
     ]
    },
    {
     "name": "stdout",
     "output_type": "stream",
     "text": [
      "train Loss: 0.5476 Acc: 0.7238\n",
      "Validation phase:\n"
     ]
    },
    {
     "name": "stderr",
     "output_type": "stream",
     "text": [
      "val Progress: 100%|██████████| 100/100 [02:01<00:00,  1.21s/it, Batch Loss=0.216, Batch Accuracy=0.897]\n"
     ]
    },
    {
     "name": "stdout",
     "output_type": "stream",
     "text": [
      "val Loss: 0.5443 Acc: 0.7332\n",
      "Saved model weights to saved_weights/model_epoch_19.pth\n",
      "\n",
      "Epoch 20/40\n",
      "------------------------------\n",
      "Training phase:\n"
     ]
    },
    {
     "name": "stderr",
     "output_type": "stream",
     "text": [
      "train Progress: 100%|██████████| 1151/1151 [38:17<00:00,  2.00s/it, Batch Loss=0.494, Batch Accuracy=0.875]\n"
     ]
    },
    {
     "name": "stdout",
     "output_type": "stream",
     "text": [
      "train Loss: 0.5451 Acc: 0.7266\n",
      "Validation phase:\n"
     ]
    },
    {
     "name": "stderr",
     "output_type": "stream",
     "text": [
      "val Progress: 100%|██████████| 100/100 [02:02<00:00,  1.22s/it, Batch Loss=0.273, Batch Accuracy=0.931]\n"
     ]
    },
    {
     "name": "stdout",
     "output_type": "stream",
     "text": [
      "val Loss: 0.5506 Acc: 0.7207\n",
      "Saved model weights to saved_weights/model_epoch_20.pth\n",
      "\n",
      "Epoch 21/40\n",
      "------------------------------\n",
      "Training phase:\n"
     ]
    },
    {
     "name": "stderr",
     "output_type": "stream",
     "text": [
      "train Progress: 100%|██████████| 1151/1151 [38:20<00:00,  2.00s/it, Batch Loss=0.408, Batch Accuracy=1]    \n"
     ]
    },
    {
     "name": "stdout",
     "output_type": "stream",
     "text": [
      "train Loss: 0.5427 Acc: 0.7276\n",
      "Validation phase:\n"
     ]
    },
    {
     "name": "stderr",
     "output_type": "stream",
     "text": [
      "val Progress: 100%|██████████| 100/100 [02:02<00:00,  1.22s/it, Batch Loss=0.283, Batch Accuracy=0.828]\n"
     ]
    },
    {
     "name": "stdout",
     "output_type": "stream",
     "text": [
      "val Loss: 0.5259 Acc: 0.7419\n",
      "Saved model weights to saved_weights/model_epoch_21.pth\n",
      "\n",
      "Epoch 22/40\n",
      "------------------------------\n",
      "Training phase:\n"
     ]
    },
    {
     "name": "stderr",
     "output_type": "stream",
     "text": [
      "train Progress: 100%|██████████| 1151/1151 [38:25<00:00,  2.00s/it, Batch Loss=0.681, Batch Accuracy=0.5]  \n"
     ]
    },
    {
     "name": "stdout",
     "output_type": "stream",
     "text": [
      "train Loss: 0.5434 Acc: 0.7280\n",
      "Validation phase:\n"
     ]
    },
    {
     "name": "stderr",
     "output_type": "stream",
     "text": [
      "val Progress: 100%|██████████| 100/100 [02:01<00:00,  1.21s/it, Batch Loss=0.209, Batch Accuracy=0.966]\n"
     ]
    },
    {
     "name": "stdout",
     "output_type": "stream",
     "text": [
      "val Loss: 0.5674 Acc: 0.7057\n",
      "Saved model weights to saved_weights/model_epoch_22.pth\n",
      "\n",
      "Epoch 23/40\n",
      "------------------------------\n",
      "Training phase:\n"
     ]
    },
    {
     "name": "stderr",
     "output_type": "stream",
     "text": [
      "train Progress: 100%|██████████| 1151/1151 [38:20<00:00,  2.00s/it, Batch Loss=0.472, Batch Accuracy=0.875]\n"
     ]
    },
    {
     "name": "stdout",
     "output_type": "stream",
     "text": [
      "train Loss: 0.5437 Acc: 0.7268\n",
      "Validation phase:\n"
     ]
    },
    {
     "name": "stderr",
     "output_type": "stream",
     "text": [
      "val Progress: 100%|██████████| 100/100 [02:02<00:00,  1.23s/it, Batch Loss=0.25, Batch Accuracy=0.931]\n"
     ]
    },
    {
     "name": "stdout",
     "output_type": "stream",
     "text": [
      "val Loss: 0.5688 Acc: 0.7050\n",
      "Saved model weights to saved_weights/model_epoch_23.pth\n",
      "\n",
      "Epoch 24/40\n",
      "------------------------------\n",
      "Training phase:\n"
     ]
    },
    {
     "name": "stderr",
     "output_type": "stream",
     "text": [
      "train Progress: 100%|██████████| 1151/1151 [39:03<00:00,  2.04s/it, Batch Loss=0.782, Batch Accuracy=0.5]  \n"
     ]
    },
    {
     "name": "stdout",
     "output_type": "stream",
     "text": [
      "train Loss: 0.5405 Acc: 0.7304\n",
      "Validation phase:\n"
     ]
    },
    {
     "name": "stderr",
     "output_type": "stream",
     "text": [
      "val Progress: 100%|██████████| 100/100 [02:01<00:00,  1.22s/it, Batch Loss=0.334, Batch Accuracy=0.828]\n"
     ]
    },
    {
     "name": "stdout",
     "output_type": "stream",
     "text": [
      "val Loss: 0.5363 Acc: 0.7410\n",
      "Saved model weights to saved_weights/model_epoch_24.pth\n",
      "\n",
      "Epoch 25/40\n",
      "------------------------------\n",
      "Training phase:\n"
     ]
    },
    {
     "name": "stderr",
     "output_type": "stream",
     "text": [
      "train Progress: 100%|██████████| 1151/1151 [38:52<00:00,  2.03s/it, Batch Loss=0.523, Batch Accuracy=0.875]\n"
     ]
    },
    {
     "name": "stdout",
     "output_type": "stream",
     "text": [
      "train Loss: 0.5436 Acc: 0.7276\n",
      "Validation phase:\n"
     ]
    },
    {
     "name": "stderr",
     "output_type": "stream",
     "text": [
      "val Progress: 100%|██████████| 100/100 [02:00<00:00,  1.21s/it, Batch Loss=0.292, Batch Accuracy=0.828]\n"
     ]
    },
    {
     "name": "stdout",
     "output_type": "stream",
     "text": [
      "val Loss: 0.5141 Acc: 0.7545\n",
      "Saved model weights to saved_weights/model_epoch_25.pth\n",
      "\n",
      "Epoch 26/40\n",
      "------------------------------\n",
      "Training phase:\n"
     ]
    },
    {
     "name": "stderr",
     "output_type": "stream",
     "text": [
      "train Progress: 100%|██████████| 1151/1151 [39:36<00:00,  2.06s/it, Batch Loss=0.48, Batch Accuracy=0.75]  \n"
     ]
    },
    {
     "name": "stdout",
     "output_type": "stream",
     "text": [
      "train Loss: 0.5411 Acc: 0.7304\n",
      "Validation phase:\n"
     ]
    },
    {
     "name": "stderr",
     "output_type": "stream",
     "text": [
      "val Progress: 100%|██████████| 100/100 [02:02<00:00,  1.23s/it, Batch Loss=0.299, Batch Accuracy=0.931]\n"
     ]
    },
    {
     "name": "stdout",
     "output_type": "stream",
     "text": [
      "val Loss: 0.5252 Acc: 0.7388\n",
      "Saved model weights to saved_weights/model_epoch_26.pth\n",
      "\n",
      "Epoch 27/40\n",
      "------------------------------\n",
      "Training phase:\n"
     ]
    },
    {
     "name": "stderr",
     "output_type": "stream",
     "text": [
      "train Progress: 100%|██████████| 1151/1151 [39:59<00:00,  2.08s/it, Batch Loss=0.297, Batch Accuracy=1]    \n"
     ]
    },
    {
     "name": "stdout",
     "output_type": "stream",
     "text": [
      "train Loss: 0.5396 Acc: 0.7282\n",
      "Validation phase:\n"
     ]
    },
    {
     "name": "stderr",
     "output_type": "stream",
     "text": [
      "val Progress: 100%|██████████| 100/100 [02:03<00:00,  1.23s/it, Batch Loss=0.217, Batch Accuracy=0.966]\n"
     ]
    },
    {
     "name": "stdout",
     "output_type": "stream",
     "text": [
      "val Loss: 0.5380 Acc: 0.7279\n",
      "Saved model weights to saved_weights/model_epoch_27.pth\n",
      "\n",
      "Epoch 28/40\n",
      "------------------------------\n",
      "Training phase:\n"
     ]
    },
    {
     "name": "stderr",
     "output_type": "stream",
     "text": [
      "train Progress: 100%|██████████| 1151/1151 [39:24<00:00,  2.05s/it, Batch Loss=0.622, Batch Accuracy=0.625]\n"
     ]
    },
    {
     "name": "stdout",
     "output_type": "stream",
     "text": [
      "train Loss: 0.5369 Acc: 0.7341\n",
      "Validation phase:\n"
     ]
    },
    {
     "name": "stderr",
     "output_type": "stream",
     "text": [
      "val Progress: 100%|██████████| 100/100 [02:01<00:00,  1.22s/it, Batch Loss=0.292, Batch Accuracy=0.862]\n"
     ]
    },
    {
     "name": "stdout",
     "output_type": "stream",
     "text": [
      "val Loss: 0.5377 Acc: 0.7426\n",
      "Saved model weights to saved_weights/model_epoch_28.pth\n",
      "\n",
      "Epoch 29/40\n",
      "------------------------------\n",
      "Training phase:\n"
     ]
    },
    {
     "name": "stderr",
     "output_type": "stream",
     "text": [
      "train Progress: 100%|██████████| 1151/1151 [43:23<00:00,  2.26s/it, Batch Loss=0.642, Batch Accuracy=0.5]   \n"
     ]
    },
    {
     "name": "stdout",
     "output_type": "stream",
     "text": [
      "train Loss: 0.5399 Acc: 0.7321\n",
      "Validation phase:\n"
     ]
    },
    {
     "name": "stderr",
     "output_type": "stream",
     "text": [
      "val Progress: 100%|██████████| 100/100 [02:02<00:00,  1.22s/it, Batch Loss=0.215, Batch Accuracy=0.966]\n"
     ]
    },
    {
     "name": "stdout",
     "output_type": "stream",
     "text": [
      "val Loss: 0.5247 Acc: 0.7470\n",
      "Saved model weights to saved_weights/model_epoch_29.pth\n",
      "\n",
      "Epoch 30/40\n",
      "------------------------------\n",
      "Training phase:\n"
     ]
    },
    {
     "name": "stderr",
     "output_type": "stream",
     "text": [
      "train Progress: 100%|██████████| 1151/1151 [39:13<00:00,  2.04s/it, Batch Loss=0.822, Batch Accuracy=0.625]\n"
     ]
    },
    {
     "name": "stdout",
     "output_type": "stream",
     "text": [
      "train Loss: 0.5387 Acc: 0.7314\n",
      "Validation phase:\n"
     ]
    },
    {
     "name": "stderr",
     "output_type": "stream",
     "text": [
      "val Progress: 100%|██████████| 100/100 [02:02<00:00,  1.22s/it, Batch Loss=0.275, Batch Accuracy=0.897]\n"
     ]
    },
    {
     "name": "stdout",
     "output_type": "stream",
     "text": [
      "val Loss: 0.5355 Acc: 0.7279\n",
      "Saved model weights to saved_weights/model_epoch_30.pth\n",
      "\n",
      "Epoch 31/40\n",
      "------------------------------\n",
      "Training phase:\n"
     ]
    },
    {
     "name": "stderr",
     "output_type": "stream",
     "text": [
      "train Progress: 100%|██████████| 1151/1151 [9:00:25<00:00, 28.17s/it, Batch Loss=0.653, Batch Accuracy=0.5]     \n"
     ]
    },
    {
     "name": "stdout",
     "output_type": "stream",
     "text": [
      "train Loss: 0.5358 Acc: 0.7336\n",
      "Validation phase:\n"
     ]
    },
    {
     "name": "stderr",
     "output_type": "stream",
     "text": [
      "val Progress: 100%|██████████| 100/100 [02:07<00:00,  1.28s/it, Batch Loss=0.244, Batch Accuracy=0.966]\n"
     ]
    },
    {
     "name": "stdout",
     "output_type": "stream",
     "text": [
      "val Loss: 0.5246 Acc: 0.7448\n",
      "Saved model weights to saved_weights/model_epoch_31.pth\n",
      "\n",
      "Epoch 32/40\n",
      "------------------------------\n",
      "Training phase:\n"
     ]
    },
    {
     "name": "stderr",
     "output_type": "stream",
     "text": [
      "train Progress: 100%|██████████| 1151/1151 [39:09<00:00,  2.04s/it, Batch Loss=0.47, Batch Accuracy=0.75]   \n"
     ]
    },
    {
     "name": "stdout",
     "output_type": "stream",
     "text": [
      "train Loss: 0.5344 Acc: 0.7332\n",
      "Validation phase:\n"
     ]
    },
    {
     "name": "stderr",
     "output_type": "stream",
     "text": [
      "val Progress: 100%|██████████| 100/100 [02:06<00:00,  1.27s/it, Batch Loss=0.319, Batch Accuracy=0.897]\n"
     ]
    },
    {
     "name": "stdout",
     "output_type": "stream",
     "text": [
      "val Loss: 0.5182 Acc: 0.7495\n",
      "Saved model weights to saved_weights/model_epoch_32.pth\n",
      "\n",
      "Epoch 33/40\n",
      "------------------------------\n",
      "Training phase:\n"
     ]
    },
    {
     "name": "stderr",
     "output_type": "stream",
     "text": [
      "train Progress: 100%|██████████| 1151/1151 [40:26<00:00,  2.11s/it, Batch Loss=0.468, Batch Accuracy=0.75] \n"
     ]
    },
    {
     "name": "stdout",
     "output_type": "stream",
     "text": [
      "train Loss: 0.5357 Acc: 0.7358\n",
      "Validation phase:\n"
     ]
    },
    {
     "name": "stderr",
     "output_type": "stream",
     "text": [
      "val Progress: 100%|██████████| 100/100 [02:16<00:00,  1.36s/it, Batch Loss=0.248, Batch Accuracy=0.966]\n"
     ]
    },
    {
     "name": "stdout",
     "output_type": "stream",
     "text": [
      "val Loss: 0.5271 Acc: 0.7410\n",
      "Saved model weights to saved_weights/model_epoch_33.pth\n",
      "\n",
      "Epoch 34/40\n",
      "------------------------------\n",
      "Training phase:\n"
     ]
    },
    {
     "name": "stderr",
     "output_type": "stream",
     "text": [
      "train Progress: 100%|██████████| 1151/1151 [40:03<00:00,  2.09s/it, Batch Loss=0.625, Batch Accuracy=0.625]\n"
     ]
    },
    {
     "name": "stdout",
     "output_type": "stream",
     "text": [
      "train Loss: 0.5336 Acc: 0.7356\n",
      "Validation phase:\n"
     ]
    },
    {
     "name": "stderr",
     "output_type": "stream",
     "text": [
      "val Progress: 100%|██████████| 100/100 [02:03<00:00,  1.24s/it, Batch Loss=0.403, Batch Accuracy=0.897]\n"
     ]
    },
    {
     "name": "stdout",
     "output_type": "stream",
     "text": [
      "val Loss: 0.5296 Acc: 0.7379\n",
      "Saved model weights to saved_weights/model_epoch_34.pth\n",
      "\n",
      "Epoch 35/40\n",
      "------------------------------\n",
      "Training phase:\n"
     ]
    },
    {
     "name": "stderr",
     "output_type": "stream",
     "text": [
      "train Progress: 100%|██████████| 1151/1151 [39:05<00:00,  2.04s/it, Batch Loss=0.489, Batch Accuracy=0.75] \n"
     ]
    },
    {
     "name": "stdout",
     "output_type": "stream",
     "text": [
      "train Loss: 0.5339 Acc: 0.7361\n",
      "Validation phase:\n"
     ]
    },
    {
     "name": "stderr",
     "output_type": "stream",
     "text": [
      "val Progress: 100%|██████████| 100/100 [02:06<00:00,  1.27s/it, Batch Loss=0.253, Batch Accuracy=0.897]\n"
     ]
    },
    {
     "name": "stdout",
     "output_type": "stream",
     "text": [
      "val Loss: 0.5325 Acc: 0.7401\n",
      "Saved model weights to saved_weights/model_epoch_35.pth\n",
      "\n",
      "Epoch 36/40\n",
      "------------------------------\n",
      "Training phase:\n"
     ]
    },
    {
     "name": "stderr",
     "output_type": "stream",
     "text": [
      "train Progress: 100%|██████████| 1151/1151 [8:38:04<00:00, 27.01s/it, Batch Loss=0.784, Batch Accuracy=0.375]    \n"
     ]
    },
    {
     "name": "stdout",
     "output_type": "stream",
     "text": [
      "train Loss: 0.5340 Acc: 0.7345\n",
      "Validation phase:\n"
     ]
    },
    {
     "name": "stderr",
     "output_type": "stream",
     "text": [
      "val Progress: 100%|██████████| 100/100 [46:46<00:00, 28.06s/it, Batch Loss=0.244, Batch Accuracy=0.897]   \n"
     ]
    },
    {
     "name": "stdout",
     "output_type": "stream",
     "text": [
      "val Loss: 0.5404 Acc: 0.7297\n",
      "Saved model weights to saved_weights/model_epoch_36.pth\n",
      "\n",
      "Epoch 37/40\n",
      "------------------------------\n",
      "Training phase:\n"
     ]
    },
    {
     "name": "stderr",
     "output_type": "stream",
     "text": [
      "train Progress: 100%|██████████| 1151/1151 [11:33:16<00:00, 36.14s/it, Batch Loss=0.552, Batch Accuracy=0.75]    \n"
     ]
    },
    {
     "name": "stdout",
     "output_type": "stream",
     "text": [
      "train Loss: 0.5318 Acc: 0.7346\n",
      "Validation phase:\n"
     ]
    },
    {
     "name": "stderr",
     "output_type": "stream",
     "text": [
      "val Progress: 100%|██████████| 100/100 [02:04<00:00,  1.25s/it, Batch Loss=0.262, Batch Accuracy=0.966]\n"
     ]
    },
    {
     "name": "stdout",
     "output_type": "stream",
     "text": [
      "val Loss: 0.5355 Acc: 0.7419\n",
      "Saved model weights to saved_weights/model_epoch_37.pth\n",
      "\n",
      "Epoch 38/40\n",
      "------------------------------\n",
      "Training phase:\n"
     ]
    },
    {
     "name": "stderr",
     "output_type": "stream",
     "text": [
      "train Progress: 100%|██████████| 1151/1151 [39:41<00:00,  2.07s/it, Batch Loss=0.315, Batch Accuracy=0.875]\n"
     ]
    },
    {
     "name": "stdout",
     "output_type": "stream",
     "text": [
      "train Loss: 0.5325 Acc: 0.7371\n",
      "Validation phase:\n"
     ]
    },
    {
     "name": "stderr",
     "output_type": "stream",
     "text": [
      "val Progress: 100%|██████████| 100/100 [02:04<00:00,  1.24s/it, Batch Loss=0.239, Batch Accuracy=0.966]\n"
     ]
    },
    {
     "name": "stdout",
     "output_type": "stream",
     "text": [
      "val Loss: 0.5327 Acc: 0.7263\n",
      "Saved model weights to saved_weights/model_epoch_38.pth\n",
      "\n",
      "Epoch 39/40\n",
      "------------------------------\n",
      "Training phase:\n"
     ]
    },
    {
     "name": "stderr",
     "output_type": "stream",
     "text": [
      "train Progress: 100%|██████████| 1151/1151 [39:03<00:00,  2.04s/it, Batch Loss=0.383, Batch Accuracy=0.875]\n"
     ]
    },
    {
     "name": "stdout",
     "output_type": "stream",
     "text": [
      "train Loss: 0.5318 Acc: 0.7364\n",
      "Validation phase:\n"
     ]
    },
    {
     "name": "stderr",
     "output_type": "stream",
     "text": [
      "val Progress: 100%|██████████| 100/100 [02:02<00:00,  1.22s/it, Batch Loss=0.325, Batch Accuracy=0.897]\n"
     ]
    },
    {
     "name": "stdout",
     "output_type": "stream",
     "text": [
      "val Loss: 0.5185 Acc: 0.7419\n",
      "Saved model weights to saved_weights/model_epoch_39.pth\n",
      "\n",
      "Epoch 40/40\n",
      "------------------------------\n",
      "Training phase:\n"
     ]
    },
    {
     "name": "stderr",
     "output_type": "stream",
     "text": [
      "train Progress: 100%|██████████| 1151/1151 [38:51<00:00,  2.03s/it, Batch Loss=0.793, Batch Accuracy=0.625]\n"
     ]
    },
    {
     "name": "stdout",
     "output_type": "stream",
     "text": [
      "train Loss: 0.5312 Acc: 0.7365\n",
      "Validation phase:\n"
     ]
    },
    {
     "name": "stderr",
     "output_type": "stream",
     "text": [
      "val Progress: 100%|██████████| 100/100 [02:03<00:00,  1.23s/it, Batch Loss=0.292, Batch Accuracy=0.897]"
     ]
    },
    {
     "name": "stdout",
     "output_type": "stream",
     "text": [
      "val Loss: 0.5396 Acc: 0.7229\n",
      "Saved model weights to saved_weights/model_epoch_40.pth\n",
      "\n",
      "Best Validation Accuracy: 0.7545\n",
      "Training complete.\n"
     ]
    },
    {
     "name": "stderr",
     "output_type": "stream",
     "text": [
      "\n"
     ]
    }
   ],
   "source": [
    "if __name__ == \"__main__\":\n",
    "    # Paths to your CSV files\n",
    "    train_csv = 'train_compiled.csv'\n",
    "    val_csv = 'valid_compiled.csv'\n",
    "\n",
    "    # Create datasets\n",
    "    train_dataset = MURADataset(csv_file=train_csv, transform=data_transforms['train'])\n",
    "    val_dataset = MURADataset(csv_file=val_csv, transform=data_transforms['val'])\n",
    "\n",
    "    # Define DataLoaders\n",
    "    batch_size = 32\n",
    "    dataloaders = {\n",
    "        'train': DataLoader(train_dataset, batch_size=batch_size, shuffle=True, num_workers=4),\n",
    "        'val': DataLoader(val_dataset, batch_size=batch_size, shuffle=False, num_workers=4)\n",
    "    }\n",
    "\n",
    "    # Define dataset sizes\n",
    "    dataset_sizes = {\n",
    "        'train': len(train_dataset),\n",
    "        'val': len(val_dataset)\n",
    "    }\n",
    "\n",
    "    # Define the model (using ResNet-18)\n",
    "    model = models.resnet18(pretrained=True)\n",
    "    num_features = model.fc.in_features\n",
    "    model.fc = nn.Linear(num_features, 2)  # Binary classification (fractured/unfractured)\n",
    "    model = model.to(device)\n",
    "\n",
    "    # Define loss function and optimizer with L2 regularization (weight decay)\n",
    "    criterion = nn.CrossEntropyLoss()\n",
    "    optimizer = optim.Adam(model.parameters(), lr=0.001, weight_decay=1e-4)\n",
    "\n",
    "    # Train the model\n",
    "    num_epochs = 40\n",
    "    best_model, train_loss, val_loss, train_acc, val_acc = train_model(\n",
    "        model, criterion, optimizer, num_epochs=num_epochs, save_dir=\"saved_weights\"\n",
    "    )"
   ]
  },
  {
   "cell_type": "code",
   "execution_count": 6,
   "metadata": {},
   "outputs": [
    {
     "data": {
      "image/png": "[encoded data removed]",
      "text/plain": [
       "<Figure size 1000x500 with 1 Axes>"
      ]
     },
     "metadata": {},
     "output_type": "display_data"
    }
   ],
   "source": [
    "import matplotlib.pyplot as plt\n",
    "\n",
    "# Plot Loss Curves\n",
    "plt.figure(figsize=(10, 5))\n",
    "plt.plot(train_loss, label='Training Loss')\n",
    "plt.plot(val_loss, label='Validation Loss')\n",
    "plt.xlabel('Epochs')\n",
    "plt.ylabel('Loss')\n",
    "plt.title('Training and Validation Loss')\n",
    "plt.legend()\n",
    "plt.show()"
   ]
  },
  {
   "cell_type": "code",
   "execution_count": null,
   "metadata": {},
   "outputs": [],
   "source": []
  }
 ],
 "metadata": {
  "kernelspec": {
   "display_name": "akos",
   "language": "python",
   "name": "python3"
  },
  "language_info": {
   "codemirror_mode": {
    "name": "ipython",
    "version": 3
   },
   "file_extension": ".py",
   "mimetype": "text/x-python",
   "name": "python",
   "nbconvert_exporter": "python",
   "pygments_lexer": "ipython3",
   "version": "3.11.5"
  }
 },
 "nbformat": 4,
 "nbformat_minor": 2
}
